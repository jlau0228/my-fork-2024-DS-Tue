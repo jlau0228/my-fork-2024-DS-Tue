{
 "cells": [
  {
   "cell_type": "markdown",
   "metadata": {},
   "source": [
    "# First print your name in the cell below then save this file. (or something nice about your instructor)"
   ]
  },
  {
   "cell_type": "code",
   "execution_count": 1,
   "metadata": {},
   "outputs": [
    {
     "name": "stdout",
     "output_type": "stream",
     "text": [
      "hussan is so cool\n"
     ]
    }
   ],
   "source": [
    "# In this cell print your name \n",
    "\n",
    "print(\"hussan is so cool\")"
   ]
  },
  {
   "cell_type": "markdown",
   "metadata": {},
   "source": [
    "# Data wrangling with Pandas exercise\n",
    "* For this exercise we will be using the `listings.csv` data file."
   ]
  },
  {
   "cell_type": "code",
   "execution_count": 4,
   "metadata": {},
   "outputs": [],
   "source": [
    "import pandas as pd\n",
    "import numpy as np"
   ]
  },
  {
   "cell_type": "markdown",
   "metadata": {},
   "source": [
    "# Load in the data file using `pd.read_csv()`"
   ]
  },
  {
   "cell_type": "code",
   "execution_count": 5,
   "metadata": {},
   "outputs": [],
   "source": [
    "# Load data here\n",
    "df = pd.read_csv('data\\listings.csv')\n"
   ]
  },
  {
   "cell_type": "markdown",
   "metadata": {},
   "source": [
    "## Exercise 2 - Filtering\n",
    "\n",
    "Return the following subsets of the dataframe.\n",
    "\n",
    "1. How many listings are there with a price less than 100? \n",
    "\n",
    "\n",
    "2. Find how many listings there are in just Brooklyn.\n",
    "\n",
    "\n",
    "3. Find how many listings there are in Brooklyn with a price less than 100.\n",
    "\n",
    "\n",
    "4. Using `.isin()` select anyone that has the host name of Michael, David, John, and Daniel.\n",
    "\n",
    "\n",
    "5. Create a new column called `adjusted_price` that has $100 added to every listing in Williamsburg.  The prices for all other listings should be the same as the were before. \n",
    "\n",
    "\n",
    "6. What % of the rooms are private, and what % of the rooms are shared.  \n",
    "    * Hint, use `.value_counts()`\n"
   ]
  },
  {
   "cell_type": "code",
   "execution_count": 6,
   "metadata": {},
   "outputs": [
    {
     "data": {
      "text/plain": [
       "22778"
      ]
     },
     "execution_count": 6,
     "metadata": {},
     "output_type": "execute_result"
    }
   ],
   "source": [
    "# 1. How many listings are there with a price less than 100? \n",
    "condition1 = df[\"price\"] < 100\n",
    "#df[condition1]\n",
    "len(df[condition1])\n"
   ]
  },
  {
   "cell_type": "code",
   "execution_count": 7,
   "metadata": {},
   "outputs": [
    {
     "data": {
      "text/plain": [
       "18632"
      ]
     },
     "execution_count": 7,
     "metadata": {},
     "output_type": "execute_result"
    }
   ],
   "source": [
    "# 2. Make a new DataFrame of listings in Brooklyn named `df_bk` \n",
    "# and find how many listings in just Brooklyn.\n",
    "c1 = df[\"neighbourhood_group\"] == \"Brooklyn\"\n",
    "df_bk = df[c1]\n",
    "len(df_bk)\n"
   ]
  },
  {
   "cell_type": "code",
   "execution_count": 9,
   "metadata": {},
   "outputs": [
    {
     "data": {
      "text/plain": [
       "7467"
      ]
     },
     "execution_count": 9,
     "metadata": {},
     "output_type": "execute_result"
    }
   ],
   "source": [
    "# 3. Find how many listings there are in Brooklyn with a price less than 100.\n",
    "\n",
    "con1 = df[\"neighbourhood_group\"] == \"Brooklyn\"\n",
    "con2 = df[\"price\"] > 100\n",
    "len(df[con1 & con2])\n"
   ]
  },
  {
   "cell_type": "code",
   "execution_count": 12,
   "metadata": {},
   "outputs": [
    {
     "data": {
      "text/plain": [
       "Michael    387\n",
       "David      348\n",
       "John       270\n",
       "Daniel     253\n",
       "Name: host_name, dtype: int64"
      ]
     },
     "execution_count": 12,
     "metadata": {},
     "output_type": "execute_result"
    }
   ],
   "source": [
    "# 4. Using `.isin()` select anyone that has the host name of Michael, David, John, and Daniel.\n",
    "# How many total are there that have those names\n",
    "hostNames = ['Michael', 'David', 'John', 'Daniel']\n",
    "condition = df.host_name.isin(hostNames)\n",
    "df[condition]['host_name'].value_counts()"
   ]
  },
  {
   "cell_type": "code",
   "execution_count": 20,
   "metadata": {},
   "outputs": [
    {
     "name": "stderr",
     "output_type": "stream",
     "text": [
      "C:\\Users\\Jess\\AppData\\Local\\Temp\\ipykernel_29916\\491346171.py:6: SettingWithCopyWarning: \n",
      "A value is trying to be set on a copy of a slice from a DataFrame.\n",
      "Try using .loc[row_indexer,col_indexer] = value instead\n",
      "\n",
      "See the caveats in the documentation: https://pandas.pydata.org/pandas-docs/stable/user_guide/indexing.html#returning-a-view-versus-a-copy\n",
      "  new_df['adjusted_price'] = new_df['price'] + 100\n"
     ]
    },
    {
     "data": {
      "text/html": [
       "<div>\n",
       "<style scoped>\n",
       "    .dataframe tbody tr th:only-of-type {\n",
       "        vertical-align: middle;\n",
       "    }\n",
       "\n",
       "    .dataframe tbody tr th {\n",
       "        vertical-align: top;\n",
       "    }\n",
       "\n",
       "    .dataframe thead th {\n",
       "        text-align: right;\n",
       "    }\n",
       "</style>\n",
       "<table border=\"1\" class=\"dataframe\">\n",
       "  <thead>\n",
       "    <tr style=\"text-align: right;\">\n",
       "      <th></th>\n",
       "      <th>id</th>\n",
       "      <th>name</th>\n",
       "      <th>host_id</th>\n",
       "      <th>host_name</th>\n",
       "      <th>neighbourhood_group</th>\n",
       "      <th>neighbourhood</th>\n",
       "      <th>latitude</th>\n",
       "      <th>longitude</th>\n",
       "      <th>room_type</th>\n",
       "      <th>price</th>\n",
       "      <th>minimum_nights</th>\n",
       "      <th>number_of_reviews</th>\n",
       "      <th>last_review</th>\n",
       "      <th>reviews_per_month</th>\n",
       "      <th>calculated_host_listings_count</th>\n",
       "      <th>availability_365</th>\n",
       "      <th>adjusted_price</th>\n",
       "    </tr>\n",
       "  </thead>\n",
       "  <tbody>\n",
       "    <tr>\n",
       "      <th>11</th>\n",
       "      <td>6848</td>\n",
       "      <td>Only 2 stops to Manhattan studio</td>\n",
       "      <td>15991</td>\n",
       "      <td>Allen &amp; Irina</td>\n",
       "      <td>Brooklyn</td>\n",
       "      <td>Williamsburg</td>\n",
       "      <td>40.70837</td>\n",
       "      <td>-73.95352</td>\n",
       "      <td>Entire home/apt</td>\n",
       "      <td>109</td>\n",
       "      <td>2</td>\n",
       "      <td>181</td>\n",
       "      <td>2020-03-16</td>\n",
       "      <td>1.32</td>\n",
       "      <td>1</td>\n",
       "      <td>0</td>\n",
       "      <td>209</td>\n",
       "    </tr>\n",
       "    <tr>\n",
       "      <th>15</th>\n",
       "      <td>7801</td>\n",
       "      <td>Sweet and Spacious Brooklyn Loft</td>\n",
       "      <td>21207</td>\n",
       "      <td>Chaya</td>\n",
       "      <td>Brooklyn</td>\n",
       "      <td>Williamsburg</td>\n",
       "      <td>40.71842</td>\n",
       "      <td>-73.95718</td>\n",
       "      <td>Entire home/apt</td>\n",
       "      <td>299</td>\n",
       "      <td>3</td>\n",
       "      <td>9</td>\n",
       "      <td>2011-12-28</td>\n",
       "      <td>0.07</td>\n",
       "      <td>1</td>\n",
       "      <td>337</td>\n",
       "      <td>399</td>\n",
       "    </tr>\n",
       "    <tr>\n",
       "      <th>35</th>\n",
       "      <td>14290</td>\n",
       "      <td>* ORIGINAL BROOKLYN LOFT *</td>\n",
       "      <td>56104</td>\n",
       "      <td>James</td>\n",
       "      <td>Brooklyn</td>\n",
       "      <td>Williamsburg</td>\n",
       "      <td>40.70420</td>\n",
       "      <td>-73.93560</td>\n",
       "      <td>Entire home/apt</td>\n",
       "      <td>131</td>\n",
       "      <td>3</td>\n",
       "      <td>95</td>\n",
       "      <td>2020-05-28</td>\n",
       "      <td>0.73</td>\n",
       "      <td>1</td>\n",
       "      <td>164</td>\n",
       "      <td>231</td>\n",
       "    </tr>\n",
       "    <tr>\n",
       "      <th>38</th>\n",
       "      <td>14377</td>\n",
       "      <td>Williamsburg 1 bedroom Apartment</td>\n",
       "      <td>56512</td>\n",
       "      <td>Joanna</td>\n",
       "      <td>Brooklyn</td>\n",
       "      <td>Williamsburg</td>\n",
       "      <td>40.70881</td>\n",
       "      <td>-73.95930</td>\n",
       "      <td>Entire home/apt</td>\n",
       "      <td>175</td>\n",
       "      <td>10</td>\n",
       "      <td>113</td>\n",
       "      <td>2020-01-24</td>\n",
       "      <td>0.87</td>\n",
       "      <td>1</td>\n",
       "      <td>165</td>\n",
       "      <td>275</td>\n",
       "    </tr>\n",
       "    <tr>\n",
       "      <th>42</th>\n",
       "      <td>15385</td>\n",
       "      <td>Very, very cozy place</td>\n",
       "      <td>60252</td>\n",
       "      <td>Cristina</td>\n",
       "      <td>Brooklyn</td>\n",
       "      <td>Williamsburg</td>\n",
       "      <td>40.71185</td>\n",
       "      <td>-73.96204</td>\n",
       "      <td>Private room</td>\n",
       "      <td>80</td>\n",
       "      <td>7</td>\n",
       "      <td>49</td>\n",
       "      <td>2020-02-07</td>\n",
       "      <td>0.39</td>\n",
       "      <td>1</td>\n",
       "      <td>229</td>\n",
       "      <td>180</td>\n",
       "    </tr>\n",
       "    <tr>\n",
       "      <th>...</th>\n",
       "      <td>...</td>\n",
       "      <td>...</td>\n",
       "      <td>...</td>\n",
       "      <td>...</td>\n",
       "      <td>...</td>\n",
       "      <td>...</td>\n",
       "      <td>...</td>\n",
       "      <td>...</td>\n",
       "      <td>...</td>\n",
       "      <td>...</td>\n",
       "      <td>...</td>\n",
       "      <td>...</td>\n",
       "      <td>...</td>\n",
       "      <td>...</td>\n",
       "      <td>...</td>\n",
       "      <td>...</td>\n",
       "      <td>...</td>\n",
       "    </tr>\n",
       "    <tr>\n",
       "      <th>46484</th>\n",
       "      <td>44746041</td>\n",
       "      <td>Modern, light-filled apartment in Wiliamsburg</td>\n",
       "      <td>3317380</td>\n",
       "      <td>Marge</td>\n",
       "      <td>Brooklyn</td>\n",
       "      <td>Williamsburg</td>\n",
       "      <td>40.71372</td>\n",
       "      <td>-73.95407</td>\n",
       "      <td>Entire home/apt</td>\n",
       "      <td>250</td>\n",
       "      <td>7</td>\n",
       "      <td>0</td>\n",
       "      <td>NaN</td>\n",
       "      <td>NaN</td>\n",
       "      <td>1</td>\n",
       "      <td>164</td>\n",
       "      <td>350</td>\n",
       "    </tr>\n",
       "    <tr>\n",
       "      <th>46489</th>\n",
       "      <td>44749327</td>\n",
       "      <td>Luxury 3 bedroom apartment Williamsburg ROOF P...</td>\n",
       "      <td>334780877</td>\n",
       "      <td>Pedro &amp; Maria</td>\n",
       "      <td>Brooklyn</td>\n",
       "      <td>Williamsburg</td>\n",
       "      <td>40.70902</td>\n",
       "      <td>-73.95610</td>\n",
       "      <td>Entire home/apt</td>\n",
       "      <td>464</td>\n",
       "      <td>4</td>\n",
       "      <td>0</td>\n",
       "      <td>NaN</td>\n",
       "      <td>NaN</td>\n",
       "      <td>1</td>\n",
       "      <td>344</td>\n",
       "      <td>564</td>\n",
       "    </tr>\n",
       "    <tr>\n",
       "      <th>46493</th>\n",
       "      <td>44753863</td>\n",
       "      <td>Bright, spacious East Williamsburg loft</td>\n",
       "      <td>38062951</td>\n",
       "      <td>Nathan</td>\n",
       "      <td>Brooklyn</td>\n",
       "      <td>Williamsburg</td>\n",
       "      <td>40.70372</td>\n",
       "      <td>-73.93492</td>\n",
       "      <td>Entire home/apt</td>\n",
       "      <td>100</td>\n",
       "      <td>7</td>\n",
       "      <td>0</td>\n",
       "      <td>NaN</td>\n",
       "      <td>NaN</td>\n",
       "      <td>1</td>\n",
       "      <td>146</td>\n",
       "      <td>200</td>\n",
       "    </tr>\n",
       "    <tr>\n",
       "      <th>46513</th>\n",
       "      <td>44800276</td>\n",
       "      <td>Williamsburg 1 Bedroom, Spacious and Classy</td>\n",
       "      <td>361034257</td>\n",
       "      <td>Angelo + Amirah</td>\n",
       "      <td>Brooklyn</td>\n",
       "      <td>Williamsburg</td>\n",
       "      <td>40.71283</td>\n",
       "      <td>-73.95400</td>\n",
       "      <td>Entire home/apt</td>\n",
       "      <td>180</td>\n",
       "      <td>7</td>\n",
       "      <td>0</td>\n",
       "      <td>NaN</td>\n",
       "      <td>NaN</td>\n",
       "      <td>1</td>\n",
       "      <td>364</td>\n",
       "      <td>280</td>\n",
       "    </tr>\n",
       "    <tr>\n",
       "      <th>46517</th>\n",
       "      <td>44802032</td>\n",
       "      <td>A very large room in Williamsburg</td>\n",
       "      <td>213793805</td>\n",
       "      <td>Omer</td>\n",
       "      <td>Brooklyn</td>\n",
       "      <td>Williamsburg</td>\n",
       "      <td>40.71970</td>\n",
       "      <td>-73.95632</td>\n",
       "      <td>Private room</td>\n",
       "      <td>55</td>\n",
       "      <td>14</td>\n",
       "      <td>0</td>\n",
       "      <td>NaN</td>\n",
       "      <td>NaN</td>\n",
       "      <td>1</td>\n",
       "      <td>45</td>\n",
       "      <td>155</td>\n",
       "    </tr>\n",
       "  </tbody>\n",
       "</table>\n",
       "<p>3486 rows × 17 columns</p>\n",
       "</div>"
      ],
      "text/plain": [
       "             id                                               name    host_id  \\\n",
       "11         6848                   Only 2 stops to Manhattan studio      15991   \n",
       "15         7801                   Sweet and Spacious Brooklyn Loft      21207   \n",
       "35        14290                         * ORIGINAL BROOKLYN LOFT *      56104   \n",
       "38        14377                   Williamsburg 1 bedroom Apartment      56512   \n",
       "42        15385                              Very, very cozy place      60252   \n",
       "...         ...                                                ...        ...   \n",
       "46484  44746041      Modern, light-filled apartment in Wiliamsburg    3317380   \n",
       "46489  44749327  Luxury 3 bedroom apartment Williamsburg ROOF P...  334780877   \n",
       "46493  44753863            Bright, spacious East Williamsburg loft   38062951   \n",
       "46513  44800276        Williamsburg 1 Bedroom, Spacious and Classy  361034257   \n",
       "46517  44802032                  A very large room in Williamsburg  213793805   \n",
       "\n",
       "             host_name neighbourhood_group neighbourhood  latitude  longitude  \\\n",
       "11       Allen & Irina            Brooklyn  Williamsburg  40.70837  -73.95352   \n",
       "15               Chaya            Brooklyn  Williamsburg  40.71842  -73.95718   \n",
       "35               James            Brooklyn  Williamsburg  40.70420  -73.93560   \n",
       "38              Joanna            Brooklyn  Williamsburg  40.70881  -73.95930   \n",
       "42            Cristina            Brooklyn  Williamsburg  40.71185  -73.96204   \n",
       "...                ...                 ...           ...       ...        ...   \n",
       "46484            Marge            Brooklyn  Williamsburg  40.71372  -73.95407   \n",
       "46489    Pedro & Maria            Brooklyn  Williamsburg  40.70902  -73.95610   \n",
       "46493           Nathan            Brooklyn  Williamsburg  40.70372  -73.93492   \n",
       "46513  Angelo + Amirah            Brooklyn  Williamsburg  40.71283  -73.95400   \n",
       "46517             Omer            Brooklyn  Williamsburg  40.71970  -73.95632   \n",
       "\n",
       "             room_type  price  minimum_nights  number_of_reviews last_review  \\\n",
       "11     Entire home/apt    109               2                181  2020-03-16   \n",
       "15     Entire home/apt    299               3                  9  2011-12-28   \n",
       "35     Entire home/apt    131               3                 95  2020-05-28   \n",
       "38     Entire home/apt    175              10                113  2020-01-24   \n",
       "42        Private room     80               7                 49  2020-02-07   \n",
       "...                ...    ...             ...                ...         ...   \n",
       "46484  Entire home/apt    250               7                  0         NaN   \n",
       "46489  Entire home/apt    464               4                  0         NaN   \n",
       "46493  Entire home/apt    100               7                  0         NaN   \n",
       "46513  Entire home/apt    180               7                  0         NaN   \n",
       "46517     Private room     55              14                  0         NaN   \n",
       "\n",
       "       reviews_per_month  calculated_host_listings_count  availability_365  \\\n",
       "11                  1.32                               1                 0   \n",
       "15                  0.07                               1               337   \n",
       "35                  0.73                               1               164   \n",
       "38                  0.87                               1               165   \n",
       "42                  0.39                               1               229   \n",
       "...                  ...                             ...               ...   \n",
       "46484                NaN                               1               164   \n",
       "46489                NaN                               1               344   \n",
       "46493                NaN                               1               146   \n",
       "46513                NaN                               1               364   \n",
       "46517                NaN                               1                45   \n",
       "\n",
       "       adjusted_price  \n",
       "11                209  \n",
       "15                399  \n",
       "35                231  \n",
       "38                275  \n",
       "42                180  \n",
       "...               ...  \n",
       "46484             350  \n",
       "46489             564  \n",
       "46493             200  \n",
       "46513             280  \n",
       "46517             155  \n",
       "\n",
       "[3486 rows x 17 columns]"
      ]
     },
     "execution_count": 20,
     "metadata": {},
     "output_type": "execute_result"
    }
   ],
   "source": [
    "# 5. Create a new column called `adjusted_price` that has $100 added to every listing in Williamsburg.  \n",
    "# The prices for all other listings should be the same as the were before. \n",
    "cond1 = df['neighbourhood'] == 'Williamsburg'\n",
    "new_df = df[cond1]\n",
    "pd.to_numeric(new_df.price)\n",
    "new_df['adjusted_price'] = new_df['price'] + 100\n",
    "new_df"
   ]
  },
  {
   "cell_type": "code",
   "execution_count": 31,
   "metadata": {},
   "outputs": [
    {
     "data": {
      "text/plain": [
       "Shared room    0.021213\n",
       "Name: room_type, dtype: float64"
      ]
     },
     "execution_count": 31,
     "metadata": {},
     "output_type": "execute_result"
    }
   ],
   "source": [
    "# 6. What % of the rooms are private, and what % of the rooms are shared.  \n",
    "conditionPriv = df['room_type'] == 'Private room'\n",
    "df[conditionPriv]['room_type'].value_counts() / len(df)\n",
    "\n",
    "conditionShare = df['room_type'] == 'Shared room'\n",
    "df[conditionShare]['room_type'].value_counts() / len(df)\n",
    "\n",
    "\n"
   ]
  },
  {
   "cell_type": "markdown",
   "metadata": {},
   "source": [
    "# Exercise 3 - Grouping\n",
    "\n",
    "1. Using `groupby`, count how many listings are in each neighbourhood_group.\n",
    "\n",
    "\n",
    "2. Using `groupby`, find the mean price for each of the neighbourhood_groups. \n",
    "\n",
    "\n",
    "3. Using `groupby` and `.agg()`, find the min and max price for each of the neighbourhood_groups. \n",
    "\n",
    "\n",
    "4. Using `groupby`, find the median price for each room type in each neighbourhood_group.\n",
    "\n",
    "\n",
    "5. Using `groupby` and `.agg()`, find the count, min, max, mean, median, and std of the prices for each room type in each neighbourhood_group."
   ]
  },
  {
   "cell_type": "code",
   "execution_count": 8,
   "metadata": {},
   "outputs": [],
   "source": [
    "# 1. Using `groupby`, count how many listings are in each neighbourhood_group.\n",
    "\n",
    "\n"
   ]
  },
  {
   "cell_type": "code",
   "execution_count": 12,
   "metadata": {},
   "outputs": [],
   "source": [
    "# 2. Using `groupby`, find the mean price for each of the neighbourhood_groups. \n",
    "\n",
    "\n"
   ]
  },
  {
   "cell_type": "code",
   "execution_count": null,
   "metadata": {},
   "outputs": [],
   "source": [
    "# 2.5. Using `groupby`, find the mean price for each room_type. \n"
   ]
  },
  {
   "cell_type": "code",
   "execution_count": 13,
   "metadata": {},
   "outputs": [],
   "source": [
    "# 3. Using `groupby` and `.agg()`, find the min and max price for each of the neighbourhood_groups. \n",
    "\n",
    "\n"
   ]
  },
  {
   "cell_type": "code",
   "execution_count": 14,
   "metadata": {},
   "outputs": [],
   "source": [
    "# 4. Using `groupby`, find the mean price for each room_type in each neighbourhood_group.\n",
    "\n"
   ]
  },
  {
   "cell_type": "code",
   "execution_count": 15,
   "metadata": {},
   "outputs": [],
   "source": [
    "# 5. Using `groupby` and `.agg()`, find the count, min, max, mean, median, and std of the prices \n",
    "# for each room type in each neighbourhood_group.\n",
    "\n",
    "\n",
    "\n"
   ]
  },
  {
   "cell_type": "markdown",
   "metadata": {},
   "source": [
    "# Load, Merge, and Export files.\n",
    "1. Load the `prices.csv` and the `n_listings.csv`\n",
    "    * Having an error..? Inspect the actual csv file if you're having trouble\n",
    "\n",
    "2. Do join that keeps all the records for each table.\n",
    "    * Neighbourhood groups should include ['Bronx', 'Brooklyn', 'Manhattan', 'Queens', 'Staten Island',\n",
    "       'LongIsland']\n",
    "\n",
    "       \n",
    "3. Save your joined csv as `joined.csv` into the data folder. \n",
    "\n",
    "\n",
    "4. Load your saved table and see if it looks the same or different that the DataFrame you used to create it. "
   ]
  },
  {
   "cell_type": "code",
   "execution_count": 16,
   "metadata": {},
   "outputs": [],
   "source": [
    "# 1. Load the `prices.csv` and the `n_listings.csv`"
   ]
  },
  {
   "cell_type": "code",
   "execution_count": 18,
   "metadata": {},
   "outputs": [],
   "source": [
    "# 2. Do join that keeps all the records for each table.\n",
    "\n",
    "\n"
   ]
  },
  {
   "cell_type": "code",
   "execution_count": null,
   "metadata": {},
   "outputs": [],
   "source": [
    "# 3. Save your joined csv as `joined.csv` into the data folder. "
   ]
  },
  {
   "cell_type": "code",
   "execution_count": null,
   "metadata": {},
   "outputs": [],
   "source": [
    "# 4. Load your newly saved file, see if it looks the same.  If not, try saving with argument `index=False`"
   ]
  },
  {
   "cell_type": "markdown",
   "metadata": {},
   "source": [
    "# Extra Credit\n",
    "Every question below this cell is extra credit and optional."
   ]
  },
  {
   "cell_type": "markdown",
   "metadata": {},
   "source": [
    "### 1. (Easy) Explore this new PandasAI Package and tell me what its all about because I've never used it. \n",
    "* https://www.youtube.com/watch?v=5w6eZaoDVVk&ab_channel=CodingIsFun  \n",
    "* See if you can use it on the listings.csv to find out some cool info. or answer some of the questions above. "
   ]
  },
  {
   "cell_type": "markdown",
   "metadata": {},
   "source": [
    "### 2. (Very Easy) Find other cool Panda packages / add ons and show us what they can do well. And how you installed them. "
   ]
  },
  {
   "cell_type": "markdown",
   "metadata": {},
   "source": [
    "### 3. (Medium) Use the grammys.csv data for the next section of questions.\n",
    "\n",
    "1. Who was won Album of the Year in 2016?\n",
    "\n",
    "\n",
    "2. Who won Best Rap Album in 2009?\n",
    "\n",
    "\n",
    "3. How many awards was Kendrick Lamar nomiated for, and how many did he win...?"
   ]
  },
  {
   "cell_type": "markdown",
   "metadata": {},
   "source": [
    "### (Hard) Load the Game Logs for 2022 and add the column names using a dictionary.  \n",
    "* [Link to the data page](https://www.retrosheet.org/gamelogs/)\n",
    "* [Link to the column names](https://procatinator.com/)\n",
    "* haha, gotta find them yourself!"
   ]
  },
  {
   "cell_type": "markdown",
   "metadata": {},
   "source": [
    "### (Extra Hard) Download the files for the past 5 years into a new folder and add them all into one data frame using pandas, then save that new file.\n",
    "* Try to not hard code in the file names. We want to do this programmatically because what if we want to add new/more file names in the future."
   ]
  },
  {
   "cell_type": "code",
   "execution_count": null,
   "metadata": {},
   "outputs": [],
   "source": []
  }
 ],
 "metadata": {
  "kernelspec": {
   "display_name": "Python 3 (ipykernel)",
   "language": "python",
   "name": "python3"
  },
  "language_info": {
   "codemirror_mode": {
    "name": "ipython",
    "version": 3
   },
   "file_extension": ".py",
   "mimetype": "text/x-python",
   "name": "python",
   "nbconvert_exporter": "python",
   "pygments_lexer": "ipython3",
   "version": "3.11.4"
  }
 },
 "nbformat": 4,
 "nbformat_minor": 4
}
